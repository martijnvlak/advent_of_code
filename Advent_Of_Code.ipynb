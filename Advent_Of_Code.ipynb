{
 "cells": [
  {
   "cell_type": "code",
   "execution_count": 1,
   "id": "07a4e9fe-0ef4-4499-bf0e-62334a9fdf55",
   "metadata": {},
   "outputs": [],
   "source": [
    "import pandas as pd\n",
    "import numpy as np\n",
    "from decimal import Decimal, ROUND_HALF_UP, ROUND_HALF_DOWN"
   ]
  },
  {
   "cell_type": "markdown",
   "id": "414c9b3a-b89a-4f40-8144-050c0233d8ce",
   "metadata": {},
   "source": [
    "- [Day 1](#Day-1)\n",
    "- [Day 2](#Day-2)\n",
    "- [Day 3](#Day-3)\n",
    "- [Day 4](#Day-4)\n",
    "- [Day 5](#Day-5)\n",
    "- [Day 6](#Day-6)\n",
    "- [Day 7](#Day-7)\n",
    "- [Day 8](#Day-8)\n",
    "- [Day 9](#Day-9)\n",
    "- [Day 10](#Day-10)\n",
    "- [Day 11](#Day-11)\n",
    "- [Day 12](#Day-12)"
   ]
  },
  {
   "cell_type": "markdown",
   "id": "777179be-f173-4bf6-946a-9df542f14a6f",
   "metadata": {},
   "source": [
    "# Day 1"
   ]
  },
  {
   "cell_type": "code",
   "execution_count": 2,
   "id": "3ca0cd85-3854-4df0-a806-595a5afa517e",
   "metadata": {},
   "outputs": [],
   "source": [
    "day1_df=pd.read_csv('Data/day1.txt', header=None, names=['depth'])"
   ]
  },
  {
   "cell_type": "code",
   "execution_count": 3,
   "id": "13d7600a-cb82-4e75-b1ce-5c09d05c2c40",
   "metadata": {},
   "outputs": [
    {
     "data": {
      "text/plain": [
       "1502"
      ]
     },
     "execution_count": 3,
     "metadata": {},
     "output_type": "execute_result"
    }
   ],
   "source": [
    "answer = (\n",
    "    day1_df\n",
    "    .diff()\n",
    "    .loc[lambda df: df['depth'] > 0]\n",
    "    .count()[0]\n",
    ")\n",
    "answer"
   ]
  },
  {
   "cell_type": "code",
   "execution_count": 4,
   "id": "cf8faafe-a40b-4ab0-8aee-d94bc1480019",
   "metadata": {},
   "outputs": [
    {
     "data": {
      "text/plain": [
       "1538"
      ]
     },
     "execution_count": 4,
     "metadata": {},
     "output_type": "execute_result"
    }
   ],
   "source": [
    "len(np.where(np.diff([day1_df['depth'].iloc[i:i+3].sum() for i in range(len(day1_df)) if i+2<len(day1_df)]) > 0)[0])"
   ]
  },
  {
   "cell_type": "markdown",
   "id": "5a5314ad-5abf-4ff4-9959-4b0d5e9c0d88",
   "metadata": {},
   "source": [
    "# Day 2"
   ]
  },
  {
   "cell_type": "code",
   "execution_count": 5,
   "id": "f50f03bf-ffb7-4d85-823b-598a5e65b146",
   "metadata": {},
   "outputs": [],
   "source": [
    "day2_df=pd.read_csv('Data/day2.txt', sep=' ', header=None, names=['direction','x'])"
   ]
  },
  {
   "cell_type": "code",
   "execution_count": 6,
   "id": "fd1e802d-6aab-4647-b002-a487c2096f04",
   "metadata": {},
   "outputs": [
    {
     "data": {
      "text/html": [
       "<div>\n",
       "<style scoped>\n",
       "    .dataframe tbody tr th:only-of-type {\n",
       "        vertical-align: middle;\n",
       "    }\n",
       "\n",
       "    .dataframe tbody tr th {\n",
       "        vertical-align: top;\n",
       "    }\n",
       "\n",
       "    .dataframe thead th {\n",
       "        text-align: right;\n",
       "    }\n",
       "</style>\n",
       "<table border=\"1\" class=\"dataframe\">\n",
       "  <thead>\n",
       "    <tr style=\"text-align: right;\">\n",
       "      <th></th>\n",
       "      <th>x</th>\n",
       "    </tr>\n",
       "  </thead>\n",
       "  <tbody>\n",
       "    <tr>\n",
       "      <th>count</th>\n",
       "      <td>1000.000000</td>\n",
       "    </tr>\n",
       "    <tr>\n",
       "      <th>mean</th>\n",
       "      <td>5.073000</td>\n",
       "    </tr>\n",
       "    <tr>\n",
       "      <th>std</th>\n",
       "      <td>2.575326</td>\n",
       "    </tr>\n",
       "    <tr>\n",
       "      <th>min</th>\n",
       "      <td>1.000000</td>\n",
       "    </tr>\n",
       "    <tr>\n",
       "      <th>25%</th>\n",
       "      <td>3.000000</td>\n",
       "    </tr>\n",
       "    <tr>\n",
       "      <th>50%</th>\n",
       "      <td>5.000000</td>\n",
       "    </tr>\n",
       "    <tr>\n",
       "      <th>75%</th>\n",
       "      <td>7.000000</td>\n",
       "    </tr>\n",
       "    <tr>\n",
       "      <th>max</th>\n",
       "      <td>9.000000</td>\n",
       "    </tr>\n",
       "  </tbody>\n",
       "</table>\n",
       "</div>"
      ],
      "text/plain": [
       "                 x\n",
       "count  1000.000000\n",
       "mean      5.073000\n",
       "std       2.575326\n",
       "min       1.000000\n",
       "25%       3.000000\n",
       "50%       5.000000\n",
       "75%       7.000000\n",
       "max       9.000000"
      ]
     },
     "execution_count": 6,
     "metadata": {},
     "output_type": "execute_result"
    }
   ],
   "source": [
    "day2_df.describe()"
   ]
  },
  {
   "cell_type": "code",
   "execution_count": 7,
   "id": "758a4762-aaf2-46b1-a55b-82601ea6d5d8",
   "metadata": {},
   "outputs": [
    {
     "data": {
      "text/plain": [
       "1451208"
      ]
     },
     "execution_count": 7,
     "metadata": {},
     "output_type": "execute_result"
    }
   ],
   "source": [
    "hor = 0\n",
    "depth = 0\n",
    "for idx,direction,x in day2_df.itertuples():\n",
    "    if direction == 'forward':\n",
    "        hor+=x\n",
    "    elif direction == 'down':\n",
    "        depth+=x\n",
    "    elif direction == 'up':\n",
    "        depth-=x\n",
    "answer=hor*depth\n",
    "answer"
   ]
  },
  {
   "cell_type": "code",
   "execution_count": 8,
   "id": "4c6d82d2-115a-411f-8c83-628a4b7fb812",
   "metadata": {},
   "outputs": [
    {
     "data": {
      "text/plain": [
       "1620141160"
      ]
     },
     "execution_count": 8,
     "metadata": {},
     "output_type": "execute_result"
    }
   ],
   "source": [
    "hor = 0\n",
    "depth = 0\n",
    "aim = 0\n",
    "for idx,direction,x in day2_df.itertuples():\n",
    "    if direction == 'forward':\n",
    "        hor+=x\n",
    "        depth+=aim*x\n",
    "    elif direction == 'down':\n",
    "        aim+=x\n",
    "    elif direction == 'up':\n",
    "        aim-=x\n",
    "answer=hor*depth\n",
    "answer"
   ]
  },
  {
   "cell_type": "markdown",
   "id": "346d54f5-bf15-451b-acb5-f92fa35051e7",
   "metadata": {},
   "source": [
    "# Day 3"
   ]
  },
  {
   "cell_type": "code",
   "execution_count": 9,
   "id": "bc2b46cb-8a82-4f10-b30e-eed6794e7953",
   "metadata": {},
   "outputs": [],
   "source": [
    "day3_df=pd.read_csv('Data/day3.txt', dtype=str, header=None, names=['diag'])"
   ]
  },
  {
   "cell_type": "code",
   "execution_count": 10,
   "id": "ed9158f2-14dc-485d-b666-6641e7e2ae64",
   "metadata": {},
   "outputs": [],
   "source": [
    "for i in range(len(day3_df[['diag']].iloc[0][0])):\n",
    "    day3_df[i]=day3_df['diag'].apply(lambda x: int(x[i]))"
   ]
  },
  {
   "cell_type": "code",
   "execution_count": 11,
   "id": "22381b3f-1adf-4c51-97d1-4dd42c787884",
   "metadata": {},
   "outputs": [],
   "source": [
    "gamma=\"\"\n",
    "epsilon=\"\"\n",
    "for i in range(len(day3_df[['diag']].iloc[0][0])):\n",
    "    mode=str(day3_df[i].mode()[0])\n",
    "    gamma+=mode\n",
    "    epsilon+=str(int(not int(mode)))\n",
    "\n",
    "answer=int(gamma, 2)*int(epsilon, 2)"
   ]
  },
  {
   "cell_type": "code",
   "execution_count": 12,
   "id": "fe58bf58-7c5a-4abc-9b81-014936577437",
   "metadata": {},
   "outputs": [
    {
     "data": {
      "text/plain": [
       "741950"
      ]
     },
     "execution_count": 12,
     "metadata": {},
     "output_type": "execute_result"
    }
   ],
   "source": [
    "answer"
   ]
  },
  {
   "cell_type": "code",
   "execution_count": 13,
   "id": "7f931acd-0133-41ba-8cba-b47209b2a326",
   "metadata": {},
   "outputs": [],
   "source": [
    "oxygen=day3_df\n",
    "co2=day3_df\n",
    "for i in range(len(day3_df[['diag']].iloc[0][0])):\n",
    "    if len(oxygen) > 1:\n",
    "        oxygen=oxygen.loc[lambda df: df[i]==int(Decimal(df[i].mean()).quantize(0, ROUND_HALF_UP))]\n",
    "    if len(co2) > 1:\n",
    "        co2=co2.loc[lambda df: df[i]!=int(Decimal(df[i].mean()).quantize(0, ROUND_HALF_UP))]\n",
    "answer=int(list(oxygen['diag'])[0], 2)*int(list(co2['diag'])[0], 2)"
   ]
  },
  {
   "cell_type": "code",
   "execution_count": 14,
   "id": "24be3137-cbb7-47d5-933a-69372bd48e00",
   "metadata": {},
   "outputs": [
    {
     "data": {
      "text/plain": [
       "903810"
      ]
     },
     "execution_count": 14,
     "metadata": {},
     "output_type": "execute_result"
    }
   ],
   "source": [
    "answer"
   ]
  },
  {
   "cell_type": "markdown",
   "id": "5d7223ad-9418-4472-9748-fe1756ad818a",
   "metadata": {},
   "source": [
    "# Day 4 "
   ]
  },
  {
   "cell_type": "code",
   "execution_count": 15,
   "id": "5e021795-0663-4da4-ac6a-8ba6c0811a3e",
   "metadata": {},
   "outputs": [],
   "source": [
    "def bingo(card):\n",
    "    return np.any(card.sum(axis=0) == -5) or np.any(card.sum(axis=1) == -5)"
   ]
  },
  {
   "cell_type": "code",
   "execution_count": 16,
   "id": "d7d71511-6dea-4c55-abe9-330bc70cab77",
   "metadata": {},
   "outputs": [],
   "source": [
    "lines = open('Data/day4.txt').read().splitlines()"
   ]
  },
  {
   "cell_type": "code",
   "execution_count": 17,
   "id": "9b12fa52-9b69-451a-92c5-b57fa261078a",
   "metadata": {},
   "outputs": [],
   "source": [
    "numbers=lines[0].split(',')"
   ]
  },
  {
   "cell_type": "code",
   "execution_count": 18,
   "id": "007c6f62-4f2c-449e-98be-73eb9a588d2d",
   "metadata": {},
   "outputs": [],
   "source": [
    "def init_bingo(lines):\n",
    "    bingo_cards=[]\n",
    "    bingo_card=np.zeros((5,5))\n",
    "    i=0\n",
    "    for line in lines[2:]:\n",
    "        if line == '':\n",
    "            bingo_cards.append(bingo_card)\n",
    "            bingo_card=np.zeros((5,5))\n",
    "            i=0\n",
    "        else:\n",
    "            bingo_card[i] = [int(num) for num in line.split(' ') if not num == '']\n",
    "            i+=1\n",
    "    return bingo_cards"
   ]
  },
  {
   "cell_type": "code",
   "execution_count": 19,
   "id": "f1d2d36f-e5c6-4ad4-980c-df755bf14d3b",
   "metadata": {},
   "outputs": [],
   "source": [
    "def play(numbers, bingo_cards):\n",
    "    for num in numbers:\n",
    "        for card in bingo_cards:\n",
    "            card[card == int(num)] = -1\n",
    "            if (np.any(card.sum(axis=0) == -5) or np.any(card.sum(axis=1) == -5)): #bingo\n",
    "                card[card == -1] = 0\n",
    "                answer=int(card.sum()*int(num))\n",
    "                return answer\n",
    "    return -1"
   ]
  },
  {
   "cell_type": "code",
   "execution_count": 20,
   "id": "5eeb38e4-3c81-457c-a7d0-e51f1509933a",
   "metadata": {},
   "outputs": [
    {
     "data": {
      "text/plain": [
       "8136"
      ]
     },
     "execution_count": 20,
     "metadata": {},
     "output_type": "execute_result"
    }
   ],
   "source": [
    "bingo_cards=init_bingo(lines)\n",
    "play(numbers, bingo_cards)"
   ]
  },
  {
   "cell_type": "markdown",
   "id": "50759d67-bf72-45b1-b557-ab17a4bb5d1d",
   "metadata": {},
   "source": [
    "### Part 2"
   ]
  },
  {
   "cell_type": "code",
   "execution_count": 21,
   "id": "d6a3e7ec-751f-45ff-80e9-88176e76ebe9",
   "metadata": {},
   "outputs": [],
   "source": [
    "def play2(numbers, bingo_cards):\n",
    "    bingo_list=[]\n",
    "    for num in numbers:\n",
    "        i = 0\n",
    "        for card in bingo_cards:\n",
    "            if i in bingo_list:\n",
    "                i+=1\n",
    "            else:\n",
    "                card[card == int(num)] = -1\n",
    "                if (np.any(card.sum(axis=0) == -5) or np.any(card.sum(axis=1) == -5)): #bingo\n",
    "                    bingo_list.append(i)\n",
    "                    if len(bingo_list) == len(bingo_cards):\n",
    "                        card[card == -1] = 0\n",
    "                        answer=int(card.sum()*int(num))\n",
    "                        return answer\n",
    "            i+=1\n",
    "    return -1"
   ]
  },
  {
   "cell_type": "code",
   "execution_count": 22,
   "id": "ee2bee2e-1d45-40b5-8aa0-235796078091",
   "metadata": {},
   "outputs": [
    {
     "data": {
      "text/plain": [
       "47282"
      ]
     },
     "execution_count": 22,
     "metadata": {},
     "output_type": "execute_result"
    }
   ],
   "source": [
    "bingo_cards=init_bingo(lines)\n",
    "play2(numbers, bingo_cards)"
   ]
  },
  {
   "cell_type": "markdown",
   "id": "21d1d779-7e9a-4daf-bcec-324280649515",
   "metadata": {},
   "source": [
    "# Day 5"
   ]
  },
  {
   "cell_type": "code",
   "execution_count": 23,
   "id": "33b9a86f-e1af-4848-93d7-ada622e24535",
   "metadata": {},
   "outputs": [],
   "source": [
    "day5_data = open('Data/day5.txt').read().splitlines()"
   ]
  },
  {
   "cell_type": "code",
   "execution_count": 24,
   "id": "631cc925-1ece-479a-99fe-94bb89340e22",
   "metadata": {},
   "outputs": [],
   "source": [
    "df = ([[list(map(int, line.split(' ->')[0].split(','))),list(map(int, line.split('-> ')[1].split(',')))] for line in day5_data])"
   ]
  },
  {
   "cell_type": "code",
   "execution_count": 25,
   "id": "fb2194a7-18dd-4996-b448-f90f447dbf99",
   "metadata": {},
   "outputs": [],
   "source": [
    "# get only vertical and horizontal lines\n",
    "pairs = (\n",
    "    [[\n",
    "        int(line.split(' ->')[0].split(',')[0]),\n",
    "        int(line.split(' ->')[0].split(',')[1]),\n",
    "        int(line.split(' ->')[1].split(',')[0]),\n",
    "        int(line.split(' ->')[1].split(',')[1])\n",
    "    ]\n",
    "        for line in day5_data]\n",
    ")"
   ]
  },
  {
   "cell_type": "code",
   "execution_count": 26,
   "id": "30157f92-152c-4741-9504-ea8e07126ab5",
   "metadata": {},
   "outputs": [
    {
     "data": {
      "text/html": [
       "<div>\n",
       "<style scoped>\n",
       "    .dataframe tbody tr th:only-of-type {\n",
       "        vertical-align: middle;\n",
       "    }\n",
       "\n",
       "    .dataframe tbody tr th {\n",
       "        vertical-align: top;\n",
       "    }\n",
       "\n",
       "    .dataframe thead th {\n",
       "        text-align: right;\n",
       "    }\n",
       "</style>\n",
       "<table border=\"1\" class=\"dataframe\">\n",
       "  <thead>\n",
       "    <tr style=\"text-align: right;\">\n",
       "      <th></th>\n",
       "      <th>x1</th>\n",
       "      <th>y1</th>\n",
       "      <th>x2</th>\n",
       "      <th>y2</th>\n",
       "    </tr>\n",
       "  </thead>\n",
       "  <tbody>\n",
       "    <tr>\n",
       "      <th>count</th>\n",
       "      <td>500.000000</td>\n",
       "      <td>500.00000</td>\n",
       "      <td>500.000000</td>\n",
       "      <td>500.000000</td>\n",
       "    </tr>\n",
       "    <tr>\n",
       "      <th>mean</th>\n",
       "      <td>485.616000</td>\n",
       "      <td>512.63400</td>\n",
       "      <td>484.652000</td>\n",
       "      <td>493.744000</td>\n",
       "    </tr>\n",
       "    <tr>\n",
       "      <th>std</th>\n",
       "      <td>291.090618</td>\n",
       "      <td>292.68717</td>\n",
       "      <td>299.481146</td>\n",
       "      <td>297.290635</td>\n",
       "    </tr>\n",
       "    <tr>\n",
       "      <th>min</th>\n",
       "      <td>10.000000</td>\n",
       "      <td>13.00000</td>\n",
       "      <td>10.000000</td>\n",
       "      <td>11.000000</td>\n",
       "    </tr>\n",
       "    <tr>\n",
       "      <th>25%</th>\n",
       "      <td>243.250000</td>\n",
       "      <td>252.00000</td>\n",
       "      <td>228.750000</td>\n",
       "      <td>227.000000</td>\n",
       "    </tr>\n",
       "    <tr>\n",
       "      <th>50%</th>\n",
       "      <td>479.500000</td>\n",
       "      <td>511.00000</td>\n",
       "      <td>479.500000</td>\n",
       "      <td>497.000000</td>\n",
       "    </tr>\n",
       "    <tr>\n",
       "      <th>75%</th>\n",
       "      <td>727.250000</td>\n",
       "      <td>765.50000</td>\n",
       "      <td>741.250000</td>\n",
       "      <td>748.000000</td>\n",
       "    </tr>\n",
       "    <tr>\n",
       "      <th>max</th>\n",
       "      <td>989.000000</td>\n",
       "      <td>989.00000</td>\n",
       "      <td>988.000000</td>\n",
       "      <td>988.000000</td>\n",
       "    </tr>\n",
       "  </tbody>\n",
       "</table>\n",
       "</div>"
      ],
      "text/plain": [
       "               x1         y1          x2          y2\n",
       "count  500.000000  500.00000  500.000000  500.000000\n",
       "mean   485.616000  512.63400  484.652000  493.744000\n",
       "std    291.090618  292.68717  299.481146  297.290635\n",
       "min     10.000000   13.00000   10.000000   11.000000\n",
       "25%    243.250000  252.00000  228.750000  227.000000\n",
       "50%    479.500000  511.00000  479.500000  497.000000\n",
       "75%    727.250000  765.50000  741.250000  748.000000\n",
       "max    989.000000  989.00000  988.000000  988.000000"
      ]
     },
     "execution_count": 26,
     "metadata": {},
     "output_type": "execute_result"
    }
   ],
   "source": [
    "df = pd.DataFrame(pairs, columns=['x1','y1','x2','y2'])\n",
    "df.describe()"
   ]
  },
  {
   "cell_type": "code",
   "execution_count": 27,
   "id": "2f00f654-1433-4a63-b592-c5f19ebdf444",
   "metadata": {},
   "outputs": [],
   "source": [
    "ocean_floor = np.zeros((1000,1000))\n",
    "for pair in pairs:\n",
    "    if pair[0] == pair[2]: #horizontal line\n",
    "        y1,y2=np.sort([pair[1],pair[3]])\n",
    "        ocean_floor[pair[0],y1:y2+1]+=1\n",
    "    elif pair[1] == pair[3]:\n",
    "        x1,x2=np.sort([pair[0],pair[2]])\n",
    "        ocean_floor[x1:x2+1,pair[1]]+=1\n",
    "answer=np.sum(ocean_floor>1)"
   ]
  },
  {
   "cell_type": "code",
   "execution_count": 28,
   "id": "b7c5b498-a1aa-420d-ab3e-82395dba53bb",
   "metadata": {},
   "outputs": [
    {
     "data": {
      "text/plain": [
       "5092"
      ]
     },
     "execution_count": 28,
     "metadata": {},
     "output_type": "execute_result"
    }
   ],
   "source": [
    "answer"
   ]
  },
  {
   "cell_type": "markdown",
   "id": "08ffe2bb-0f48-4463-ab51-525765630180",
   "metadata": {},
   "source": [
    "### Part 2"
   ]
  },
  {
   "cell_type": "code",
   "execution_count": 29,
   "id": "02c34dd8-9f37-48e2-8a78-8edd636dda27",
   "metadata": {},
   "outputs": [],
   "source": [
    "ocean_floor = np.zeros((1000,1000))\n",
    "for pair in pairs:\n",
    "    if pair[0] == pair[2]: #horizontal line\n",
    "        y1,y2=np.sort([pair[1],pair[3]])\n",
    "        ocean_floor[pair[0],y1:y2+1]+=1\n",
    "    elif pair[1] == pair[3]: #vertical line\n",
    "        x1,x2=np.sort([pair[0],pair[2]])\n",
    "        ocean_floor[x1:x2+1,pair[1]]+=1\n",
    "    elif abs(pair[0]-pair[2]) == abs(pair[1]-pair[3]): #diagonal\n",
    "        loop = abs(pair[0]-pair[2])+1 #loopsize\n",
    "        if (pair[0]-pair[2] == pair[1]-pair[3]): #diagonal one\n",
    "            if (pair[0] < pair[2]): #topright\n",
    "                for i in range(loop):\n",
    "                    ocean_floor[pair[0]+i, pair[1]+i]+=1\n",
    "            elif (pair[0] > pair[2]): #downleft\n",
    "                for i in range(loop):\n",
    "                    ocean_floor[pair[2]+i, pair[3]+i]+=1\n",
    "        elif (pair[0]-pair[2] == -(pair[1]-pair[3])): #diagonal two\n",
    "            if (pair[0] < pair[2]): #downright\n",
    "                for i in range(loop):\n",
    "                    ocean_floor[pair[0]+i, pair[1]-i]+=1\n",
    "            elif (pair[0] > pair[2]): #topleft\n",
    "                for i in range(loop):\n",
    "                    ocean_floor[pair[2]+i, pair[3]-i]+=1\n",
    "                \n",
    "            \n",
    "answer=np.sum(ocean_floor>1)"
   ]
  },
  {
   "cell_type": "code",
   "execution_count": 30,
   "id": "30176232-6a7e-452e-a795-436e86ed40ad",
   "metadata": {},
   "outputs": [
    {
     "data": {
      "text/plain": [
       "20484"
      ]
     },
     "execution_count": 30,
     "metadata": {},
     "output_type": "execute_result"
    }
   ],
   "source": [
    "answer"
   ]
  },
  {
   "cell_type": "markdown",
   "id": "dfedfbbf-fc60-44f4-b14e-960abfd7b4cd",
   "metadata": {},
   "source": [
    "# Day 6"
   ]
  },
  {
   "cell_type": "code",
   "execution_count": 31,
   "id": "de9a7e36-9837-4f28-a4f5-f6212963ad91",
   "metadata": {},
   "outputs": [
    {
     "name": "stdout",
     "output_type": "stream",
     "text": [
      "372984\n"
     ]
    }
   ],
   "source": [
    "fish = list(np.loadtxt('Data/day6.txt', delimiter=','))\n",
    "days=80\n",
    "for day in range(days):\n",
    "    fish=[f - 1 for f in fish]\n",
    "    new_fish=[8] * len([f for f in fish if f == -1])\n",
    "    fish= [6 if f==-1 else f for f in fish] \n",
    "    fish = fish+new_fish\n",
    "print(len(fish))"
   ]
  },
  {
   "cell_type": "code",
   "execution_count": 32,
   "id": "220f148a-d091-4b4a-939a-1e040ef0883e",
   "metadata": {},
   "outputs": [
    {
     "name": "stdout",
     "output_type": "stream",
     "text": [
      "372984\n"
     ]
    }
   ],
   "source": [
    "fish = np.loadtxt('Data/day6.txt', delimiter=',')\n",
    "days=80\n",
    "for day in range(days):\n",
    "    fish=fish-1 #still from the previous day\n",
    "    new_fish=np.full(len(fish[fish==-1]),8)\n",
    "    fish[fish == -1] = 6\n",
    "    fish = np.append(fish,new_fish)\n",
    "print(len(fish))"
   ]
  },
  {
   "cell_type": "markdown",
   "id": "942b8d33-9981-4afb-bb1d-f97bbb620707",
   "metadata": {},
   "source": [
    "### Part 2 "
   ]
  },
  {
   "cell_type": "code",
   "execution_count": 33,
   "id": "60400b1f-b480-47db-a5b8-00d876b8da25",
   "metadata": {},
   "outputs": [
    {
     "data": {
      "text/plain": [
       "1681503251694"
      ]
     },
     "execution_count": 33,
     "metadata": {},
     "output_type": "execute_result"
    }
   ],
   "source": [
    "day_count=256\n",
    "keys=list(range(-1,9)) #life of fishes\n",
    "fish = {} \n",
    "answer=0\n",
    "\n",
    "for key in keys: #init dict\n",
    "    fish[key] = 0\n",
    "day_0=np.loadtxt('Data/day6.txt', delimiter=',')\n",
    "days, count = np.unique(day_0, return_counts=True)\n",
    "\n",
    "for i in range(len(days)):\n",
    "    fish[days[i]]=count[i]\n",
    "    \n",
    "for day in range(day_count):    \n",
    "    for key in keys[:-1]: #similar as -1\n",
    "        fish[key]=fish[key+1]\n",
    "        fish[key+1]=0\n",
    "    fish[8]+=fish[-1]\n",
    "    fish[6]+=fish[-1]\n",
    "    fish[-1]=0\n",
    "    \n",
    "for key in fish:\n",
    "    answer+=fish[key]\n",
    "answer"
   ]
  },
  {
   "cell_type": "markdown",
   "id": "15aae3b1-5e23-40be-ac1a-05a608bcba40",
   "metadata": {},
   "source": [
    "# Day 7"
   ]
  },
  {
   "cell_type": "code",
   "execution_count": 34,
   "id": "6e4d880a-e248-4468-afb4-db5bb3fc9b5e",
   "metadata": {},
   "outputs": [
    {
     "data": {
      "text/plain": [
       "355521"
      ]
     },
     "execution_count": 34,
     "metadata": {},
     "output_type": "execute_result"
    }
   ],
   "source": [
    "day7_data=np.loadtxt('Data/day7.txt', delimiter=',', dtype=int)\n",
    "best_value=np.inf\n",
    "error=0\n",
    "#can also be solved with the median?\n",
    "\n",
    "for i in range(np.min(day7_data),np.max(day7_data)): #horizontal line to align them on\n",
    "    error=np.sum(np.absolute(day7_data-i))\n",
    "    if error < best_value:\n",
    "        best_value=error\n",
    "best_value"
   ]
  },
  {
   "cell_type": "markdown",
   "id": "6b50edd3-07db-4881-b37c-b30249d16847",
   "metadata": {},
   "source": [
    "### Part 2"
   ]
  },
  {
   "cell_type": "code",
   "execution_count": 35,
   "id": "898c7543-6cf6-4293-91d0-6afcce0e7fa0",
   "metadata": {},
   "outputs": [
    {
     "data": {
      "text/plain": [
       "100148777"
      ]
     },
     "execution_count": 35,
     "metadata": {},
     "output_type": "execute_result"
    }
   ],
   "source": [
    "day7_data=np.loadtxt('Data/day7.txt', delimiter=',', dtype=int)\n",
    "best_value=np.inf\n",
    "error=0\n",
    "\n",
    "for i in range(np.min(day7_data),np.max(day7_data)): #horizontal line to align them on\n",
    "    diff=np.absolute(day7_data-i)\n",
    "    error=int(np.sum(diff*(diff+1)/2))\n",
    "    if error < best_value:\n",
    "        best_value=error\n",
    "best_value"
   ]
  },
  {
   "cell_type": "markdown",
   "id": "cce357b6-baa2-4ce6-806f-7a5e27d0ebc1",
   "metadata": {},
   "source": [
    "# Day 8"
   ]
  },
  {
   "cell_type": "code",
   "execution_count": 36,
   "id": "fd37cb68-babe-4a6e-8fc1-d2ebd6a87df8",
   "metadata": {},
   "outputs": [
    {
     "data": {
      "text/plain": [
       "554"
      ]
     },
     "execution_count": 36,
     "metadata": {},
     "output_type": "execute_result"
    }
   ],
   "source": [
    "day8_data = open('Data/day8.txt').read().splitlines()\n",
    "day8_input=[[set(num) for num in line.split(' | ')[0].split(' ')] for line in day8_data]\n",
    "day8_output=[[set(num) for num in line.split(' | ')[1].split(' ')] for line in day8_data]\n",
    "np.sum([len([output for output in line if len(output) == 2 or len(output) == 3 or len(output) == 4 or len(output) == 7]) for line in day8_output])"
   ]
  },
  {
   "cell_type": "markdown",
   "id": "f8623ece-b3af-4572-ad52-4ae6c27917d4",
   "metadata": {},
   "source": [
    "### Part 2"
   ]
  },
  {
   "cell_type": "code",
   "execution_count": 37,
   "id": "ac48afbc-1417-485c-a041-570a6217d800",
   "metadata": {},
   "outputs": [],
   "source": [
    "# function that returns digit:\n",
    "def return_digit(code, one_code, four_code):\n",
    "    if len(code) == 2:\n",
    "        return '1'\n",
    "    elif len(code) == 3:\n",
    "        return '7'\n",
    "    elif len(code) == 4:\n",
    "        return '4'\n",
    "    elif len(code) == 7:\n",
    "        return '8'\n",
    "    elif len(code) == 5:\n",
    "        if len(four_code.intersection(code)) == 2: \n",
    "            return '2'\n",
    "        elif len(one_code.intersection(code)) == 2:\n",
    "            return '3'\n",
    "        else:\n",
    "            return '5'\n",
    "    elif len(code) == 6:\n",
    "        if len(one_code.intersection(code)) == 1: \n",
    "            return '6'\n",
    "        elif len(four_code.intersection(code)) == 4:\n",
    "            return '9'\n",
    "        else:\n",
    "            return '0'\n",
    "    print(\"error\")\n",
    "    return "
   ]
  },
  {
   "cell_type": "code",
   "execution_count": 38,
   "id": "36f04914-95f1-47cf-a764-abebe9964b80",
   "metadata": {},
   "outputs": [
    {
     "data": {
      "text/plain": [
       "990964"
      ]
     },
     "execution_count": 38,
     "metadata": {},
     "output_type": "execute_result"
    }
   ],
   "source": [
    "answer_list=[]\n",
    "for i in range(len(day8_output)):\n",
    "    one_code = [code for code in day8_input[i] if len(code) == 2][0]\n",
    "    four_code = [code for code in day8_input[i] if len(code) == 4][0]\n",
    "    answer_list.append(int(''.join([return_digit(code, one_code, four_code) for code in day8_output[i]])))\n",
    "np.sum(answer_list)"
   ]
  },
  {
   "cell_type": "markdown",
   "id": "14952615-4209-4ae9-88d3-4cd172f76b7c",
   "metadata": {},
   "source": [
    "# Day 9"
   ]
  },
  {
   "cell_type": "code",
   "execution_count": 39,
   "id": "4447b3d8-4774-4870-a6db-884e38658fc7",
   "metadata": {},
   "outputs": [],
   "source": [
    "lines = open('Data/day9.txt').read().splitlines()\n",
    "day9_data = [[int(char) for char in line] for line in lines]\n",
    "max_y, max_x = np.shape(day9_data)"
   ]
  },
  {
   "cell_type": "code",
   "execution_count": 40,
   "id": "358c4f01-9e68-4e11-85e5-76152f8213ff",
   "metadata": {},
   "outputs": [],
   "source": [
    "def low_point(data,x,y,max_x,max_y):\n",
    "    left=right=up=down=True\n",
    "    if x > 0:\n",
    "        left=data[y][x-1]>data[y][x]\n",
    "    if x < max_x-1:\n",
    "        right=data[y][x+1]>data[y][x]\n",
    "    if y > 0:\n",
    "        up=data[y-1][x]>data[y][x]\n",
    "    if y < max_y-1:\n",
    "        down=data[y+1][x]>data[y][x]\n",
    "    return int(left and right and up and down)*(1+data[y][x])"
   ]
  },
  {
   "cell_type": "code",
   "execution_count": 41,
   "id": "7fdb995f-817d-461a-b98b-d6d90ea7fdb4",
   "metadata": {},
   "outputs": [
    {
     "data": {
      "text/plain": [
       "585"
      ]
     },
     "execution_count": 41,
     "metadata": {},
     "output_type": "execute_result"
    }
   ],
   "source": [
    "answer=0\n",
    "for i in range(max_y):\n",
    "    for j in range(max_x):\n",
    "        answer+=low_point(day9_data, j, i, max_x, max_y)\n",
    "answer"
   ]
  },
  {
   "cell_type": "markdown",
   "id": "2fb257a6-09f6-4ab8-b498-875f65ccb550",
   "metadata": {},
   "source": [
    "### Part 2"
   ]
  },
  {
   "cell_type": "code",
   "execution_count": 42,
   "id": "88db535e-2615-4002-8175-0416772bcca9",
   "metadata": {},
   "outputs": [],
   "source": [
    "lines = open('Data/day9.txt').read().splitlines()\n",
    "day9_data = [[int(char) for char in line] for line in lines]\n",
    "max_y, max_x = np.shape(day9_data)"
   ]
  },
  {
   "cell_type": "code",
   "execution_count": 43,
   "id": "408a1b74-de2e-4464-b16e-db0f0e03e945",
   "metadata": {},
   "outputs": [],
   "source": [
    "def low_point(data, x, y, max_x, max_y):\n",
    "    left=right=up=down=True\n",
    "    if x > 0:\n",
    "        left=data[y][x-1]>data[y][x]\n",
    "    if x < max_x-1:\n",
    "        right=data[y][x+1]>data[y][x]\n",
    "    if y > 0:\n",
    "        up=data[y-1][x]>data[y][x]\n",
    "    if y < max_y-1:\n",
    "        down=data[y+1][x]>data[y][x]\n",
    "    if left and right and up and down:\n",
    "        return (x,y)\n",
    "\n",
    "def search(data, visited, x, y, max_x, max_y):\n",
    "    visited.append((x,y))\n",
    "    if x > 0:\n",
    "        if (data[y][x-1] != 9) and (x-1,y) not in visited:\n",
    "            search(data, visited, x-1, y, max_x, max_y)\n",
    "    if x < max_x-1:\n",
    "        if (data[y][x+1] != 9) and (x+1,y) not in visited:\n",
    "            search(data, visited, x+1, y, max_x, max_y)\n",
    "    if y > 0:\n",
    "        if (data[y-1][x] != 9) and (x,y-1) not in visited:\n",
    "            search(data, visited, x, y-1, max_x, max_y)\n",
    "    if y < max_y-1:\n",
    "        if (data[y+1][x] != 9) and (x,y+1) not in visited:\n",
    "            search(data, visited, x, y+1, max_x, max_y)\n",
    "    return len(visited)"
   ]
  },
  {
   "cell_type": "code",
   "execution_count": 44,
   "id": "11378d16-3540-4d2c-857c-b600f1eaf9e7",
   "metadata": {},
   "outputs": [],
   "source": [
    "low_points=[]\n",
    "for i in range(max_y):\n",
    "    for j in range(max_x):\n",
    "        if low_point(day9_data, j, i, max_x, max_y):\n",
    "            low_points.append(low_point(day9_data, j, i, max_x, max_y))"
   ]
  },
  {
   "cell_type": "code",
   "execution_count": 45,
   "id": "3f17d649-8703-4995-a582-b43fb0772e5d",
   "metadata": {},
   "outputs": [
    {
     "data": {
      "text/plain": [
       "827904"
      ]
     },
     "execution_count": 45,
     "metadata": {},
     "output_type": "execute_result"
    }
   ],
   "source": [
    "basins=[]\n",
    "for point in low_points:\n",
    "    visited=[]\n",
    "    basin_size=search(day9_data, visited, point[0], point[1], max_x, max_y)\n",
    "    basins.append(basin_size)\n",
    "answer=np.prod((np.sort(basins)[-3:]))\n",
    "answer"
   ]
  },
  {
   "cell_type": "markdown",
   "id": "0cf5ebae-b115-41b7-9ac4-1b43d8f8acf7",
   "metadata": {},
   "source": [
    "# Day 10"
   ]
  },
  {
   "cell_type": "code",
   "execution_count": 46,
   "id": "1edfe054-02db-413b-88f0-fc849d075747",
   "metadata": {},
   "outputs": [],
   "source": [
    "lines = open('Data/day10.txt').read().splitlines()\n",
    "# day9_data= [[int(char) for char in line] for line in lines]"
   ]
  },
  {
   "cell_type": "code",
   "execution_count": 47,
   "id": "155b2841-b062-452b-afd1-2db691bf2ea1",
   "metadata": {},
   "outputs": [],
   "source": [
    "points={}\n",
    "points[')']=3\n",
    "points[']']=57\n",
    "points['}']=1197\n",
    "points['>']=25137\n",
    "\n",
    "closing_chars={}\n",
    "closing_chars[')']='('\n",
    "closing_chars[']']='['\n",
    "closing_chars['}']='{'\n",
    "closing_chars['>']='<'"
   ]
  },
  {
   "cell_type": "code",
   "execution_count": 48,
   "id": "dc709ce9-115a-4698-a457-0c45b241780e",
   "metadata": {},
   "outputs": [
    {
     "data": {
      "text/plain": [
       "387363"
      ]
     },
     "execution_count": 48,
     "metadata": {},
     "output_type": "execute_result"
    }
   ],
   "source": [
    "error_points=0\n",
    "for line in lines:\n",
    "    chunks=[]\n",
    "    for char in line:\n",
    "        if char in ['(','[','{','<']:\n",
    "            chunks.append(char)\n",
    "        elif char in [')','}',']','>']:\n",
    "            if closing_chars[char]==chunks[-1]:\n",
    "                chunks.pop()\n",
    "            else:\n",
    "                error_points+=points[char]\n",
    "                break;\n",
    "error_points"
   ]
  },
  {
   "cell_type": "markdown",
   "id": "fa21c916-fdb9-4d36-b244-2ef900abec97",
   "metadata": {},
   "source": [
    "### Part 2"
   ]
  },
  {
   "cell_type": "code",
   "execution_count": 49,
   "id": "d56ecddc-8c85-4f6e-b848-5733c92e6457",
   "metadata": {},
   "outputs": [],
   "source": [
    "opening_chars={}\n",
    "opening_chars['(']=')'\n",
    "opening_chars['[']=']'\n",
    "opening_chars['{']='}'\n",
    "opening_chars['<']='>'\n",
    "\n",
    "points={}\n",
    "points[')']=1\n",
    "points[']']=2\n",
    "points['}']=3\n",
    "points['>']=4\n"
   ]
  },
  {
   "cell_type": "code",
   "execution_count": 50,
   "id": "c31637aa-b3f9-414b-982e-5bf4c5c26318",
   "metadata": {},
   "outputs": [],
   "source": [
    "corrupted_lines=[]\n",
    "for i in range(len(lines)):\n",
    "    chunks=[]\n",
    "    for char in lines[i]:\n",
    "        if char in ['(','[','{','<']:\n",
    "            chunks.append(char)\n",
    "        elif char in [')','}',']','>']:\n",
    "            if closing_chars[char]==chunks[-1]:\n",
    "                chunks.pop()\n",
    "            else:\n",
    "                corrupted_lines.append(i)\n",
    "                break;"
   ]
  },
  {
   "cell_type": "code",
   "execution_count": 51,
   "id": "46ac36f0-9300-4463-8963-7064577dd73c",
   "metadata": {},
   "outputs": [
    {
     "data": {
      "text/plain": [
       "4330777059"
      ]
     },
     "execution_count": 51,
     "metadata": {},
     "output_type": "execute_result"
    }
   ],
   "source": [
    "final_scores=[]\n",
    "for i in range(len(lines)):\n",
    "    if not i in corrupted_lines:\n",
    "        chunks=[]\n",
    "        for char in lines[i]:\n",
    "            if char in ['(','[','{','<']:\n",
    "                chunks.append(char)\n",
    "            elif char in [')','}',']','>']:\n",
    "                if closing_chars[char]==chunks[-1]:\n",
    "                    chunks.pop()\n",
    "        complete=[]\n",
    "        for char in reversed(chunks):\n",
    "            complete.append(opening_chars[char])\n",
    "        score=0\n",
    "        for char in complete:\n",
    "            score=score*5+points[char]\n",
    "        final_scores.append(score)  \n",
    "int(np.median(final_scores))"
   ]
  },
  {
   "cell_type": "markdown",
   "id": "fcd9a11c-4837-4017-aa2e-b9bcd8b72f6e",
   "metadata": {},
   "source": [
    "# Day 11"
   ]
  },
  {
   "cell_type": "code",
   "execution_count": 52,
   "id": "7c92c8fd-0ee5-41b0-be45-9163ce1ba15b",
   "metadata": {},
   "outputs": [],
   "source": [
    "lines = open('Data/day11.txt').read().splitlines()"
   ]
  },
  {
   "cell_type": "code",
   "execution_count": 53,
   "id": "10f1246a-137a-4eb8-a3b9-a38f0d734a50",
   "metadata": {},
   "outputs": [],
   "source": [
    "class Octo:\n",
    "    def __init__(self, energy):\n",
    "        self.energy = energy\n",
    "        self.flashed = False"
   ]
  },
  {
   "cell_type": "code",
   "execution_count": 54,
   "id": "89e2a42f-963b-4da4-916b-2d0b8d7f7bb9",
   "metadata": {},
   "outputs": [],
   "source": [
    "def increase_octos(octos, max_y, max_x):\n",
    "    for i in range(max_y):\n",
    "        for j in range(max_x):\n",
    "            if octos[i][j].energy > 9:\n",
    "                print(\"error\")\n",
    "            octos[i][j].energy+=1\n",
    "\n",
    "\n",
    "def new_octos(octos, max_y, max_x):\n",
    "    new_octos=[]\n",
    "    for i in range(max_y):\n",
    "        for j in range(max_x):\n",
    "            if octos[i][j].energy == 10 and not octos[i][j].flashed:\n",
    "                new_octos.append((i,j))\n",
    "    return new_octos\n",
    "\n",
    "    \n",
    "def update_octo(octos, y, x, max_y, max_x):\n",
    "    if (x >= 0 and x < max_x) and (y >= 0 and y < max_y):\n",
    "        if octos[y][x].energy < 10:\n",
    "            octos[y][x].energy+=1\n",
    "                \n",
    "def flash(octos, y, x, max_y, max_x):\n",
    "    octos[y][x].flashed=True\n",
    "    for i in [-1,0,1]:\n",
    "        for j in [-1,0,1]:\n",
    "            update_octo(octos, y-i, x-j, max_y, max_x)\n",
    "            \n",
    "def reset_flash(octos, max_y, max_x):\n",
    "    flash_count=0\n",
    "    for i in range(max_y):\n",
    "        for j in range(max_x):\n",
    "            if octos[i][j].energy == 10:\n",
    "                if octos[i][j].flashed==False:\n",
    "                    print('errorrr')\n",
    "                flash_count+=1\n",
    "                octos[i][j].flashed=False\n",
    "                octos[i][j].energy=0\n",
    "    return flash_count\n",
    "\n",
    "# check edges\n",
    "\n",
    "# check if neighbour is not 10 "
   ]
  },
  {
   "cell_type": "code",
   "execution_count": 55,
   "id": "61df63a2-10b1-4492-8a2d-9cab7030ff0f",
   "metadata": {},
   "outputs": [
    {
     "data": {
      "text/plain": [
       "1732"
      ]
     },
     "execution_count": 55,
     "metadata": {},
     "output_type": "execute_result"
    }
   ],
   "source": [
    "octos = np.array([[Octo(int(char)) for char in line] for line in lines])\n",
    "octo_flash = [] #for coordinates of new octos\n",
    "flashes = 0\n",
    "max_y, max_x = np.shape(octos)\n",
    "step_size=100\n",
    "for step in range(step_size):\n",
    "    increase_octos(octos, max_y, max_x)\n",
    "    octo_flash = new_octos(octos, max_y, max_x)\n",
    "    while len(octo_flash) > 0:\n",
    "        for octo_pos in octo_flash:\n",
    "            flash(octos, octo_pos[0], octo_pos[1], max_y, max_x)\n",
    "        octo_flash = new_octos(octos,max_y, max_x)\n",
    "    flashes+=reset_flash(octos, max_y, max_x)   \n",
    "    # update flashes count\n",
    "    # set all octos to flashed = False and set 10 octos to zero\n",
    "flashes"
   ]
  },
  {
   "cell_type": "markdown",
   "id": "2b08f6b4-b2e5-4bd1-83ff-00f721546221",
   "metadata": {},
   "source": [
    "### Part 2"
   ]
  },
  {
   "cell_type": "code",
   "execution_count": 57,
   "id": "0ab403ed-3cb2-440a-be99-34040e0f827c",
   "metadata": {},
   "outputs": [
    {
     "data": {
      "text/plain": [
       "290"
      ]
     },
     "execution_count": 57,
     "metadata": {},
     "output_type": "execute_result"
    }
   ],
   "source": [
    "octos = np.array([[Octo(int(char)) for char in line] for line in lines])\n",
    "octo_flash = [] #for coordinates of new octos\n",
    "max_y, max_x = np.shape(octos)\n",
    "step=1\n",
    "\n",
    "increase_octos(octos, max_y, max_x)\n",
    "octo_flash = new_octos(octos, max_y, max_x)\n",
    "while len(octo_flash) > 0:\n",
    "    for octo_pos in octo_flash:\n",
    "        flash(octos, octo_pos[0], octo_pos[1], max_y, max_x)\n",
    "    octo_flash = new_octos(octos,max_y, max_x)\n",
    "    \n",
    "while reset_flash(octos, max_y, max_x) != max_x*max_y:\n",
    "    increase_octos(octos, max_y, max_x)\n",
    "    octo_flash = new_octos(octos, max_y, max_x)\n",
    "    while len(octo_flash) > 0:\n",
    "        for octo_pos in octo_flash:\n",
    "            flash(octos, octo_pos[0], octo_pos[1], max_y, max_x)\n",
    "        octo_flash = new_octos(octos,max_y, max_x)\n",
    "    step+=1\n",
    "\n",
    "step\n",
    "    # update flashes count\n",
    "    # set all octos to flashed = False and set 10 octos to zero"
   ]
  },
  {
   "cell_type": "markdown",
   "id": "10eb66f7-46aa-440a-9de5-3f40b8add03d",
   "metadata": {},
   "source": [
    "# Day 12"
   ]
  },
  {
   "cell_type": "code",
   "execution_count": 58,
   "id": "fc1113fd-5f95-40fc-8d84-51a9ec05bb43",
   "metadata": {},
   "outputs": [],
   "source": [
    "lines = open('Data/day12.txt').read().splitlines()"
   ]
  },
  {
   "cell_type": "code",
   "execution_count": 146,
   "id": "a8df4ada-67cb-4e26-a0fb-e4dc4b57853a",
   "metadata": {},
   "outputs": [],
   "source": [
    "def find_paths(cave_system, visited, path, cave, end):\n",
    "    if cave.islower():\n",
    "        visited.append(cave)\n",
    "    path.append(cave)\n",
    "    \n",
    "    if cave == end:\n",
    "        found_paths.append(path)\n",
    "    else:\n",
    "        for neighbour in cave_system[cave]:\n",
    "            if neighbour not in visited:\n",
    "                find_paths(cave_system, visited, path, neighbour, end)\n",
    "    path.pop()\n",
    "    if cave.islower():\n",
    "        visited.remove(cave)\n"
   ]
  },
  {
   "cell_type": "code",
   "execution_count": 142,
   "id": "b6abf3a0-f533-4ffc-9ac0-1016738a00e0",
   "metadata": {},
   "outputs": [
    {
     "data": {
      "text/plain": [
       "10"
      ]
     },
     "execution_count": 142,
     "metadata": {},
     "output_type": "execute_result"
    }
   ],
   "source": [
    "cave_system = {}\n",
    "visited = [] # List to keep track of visited nodes.\n",
    "paths=[[line.split('-')[0], line.split('-')[1]] for line in lines]\n",
    "val = {}\n",
    "count = {}\n",
    "found_paths=[]\n",
    "#initialize cave system\n",
    "for cave in set([path[0] for path in paths]):\n",
    "    cave_system[cave] = []\n",
    "for cave in set([path[1] for path in paths]):\n",
    "    cave_system[cave] = []\n",
    "    \n",
    "for path in paths:\n",
    "    cave_system[path[0]].append(path[1])\n",
    "    if (path[0] != 'start' and path[1] != 'end'):\n",
    "        cave_system[path[1]].append(path[0])\n",
    "    \n",
    "find_paths(cave_system, visited, path, 'start', 'end')\n",
    "len(found_paths)"
   ]
  },
  {
   "cell_type": "markdown",
   "id": "f63ab3d6-b092-410c-aec4-a9cd4ff77c57",
   "metadata": {},
   "source": [
    "### Part 2"
   ]
  },
  {
   "cell_type": "code",
   "execution_count": 147,
   "id": "87ae61f9-f283-49fa-bacb-3c15054b5c0b",
   "metadata": {},
   "outputs": [],
   "source": [
    "def find_paths2(cave_system, visited, path, cave, end, small_cave):\n",
    "    if cave.islower():\n",
    "        if cave == small_cave:\n",
    "            if small_cave_counter[0] == 0:\n",
    "                small_cave_counter[0]+=1\n",
    "            elif small_cave_counter[0] == 1:\n",
    "                visited.append(small_cave)\n",
    "                small_cave_counter[0]+=1\n",
    "        else:\n",
    "            visited.append(cave)\n",
    "   \n",
    "    path.append(cave)\n",
    "    \n",
    "    if cave == end:\n",
    "#         if not path in found_paths:\n",
    "        found_paths.append(path.copy())\n",
    "    else:\n",
    "        for neighbour in cave_system[cave]:\n",
    "            if neighbour not in visited:\n",
    "                find_paths2(cave_system, visited, path, neighbour, end, small_cave)\n",
    "    path.pop()\n",
    "    if cave.islower() and cave != small_cave:\n",
    "        visited.remove(cave)\n",
    "    elif cave==small_cave:\n",
    "        if small_cave_counter[0] == 2:\n",
    "            visited.remove(cave)\n",
    "            small_cave_counter[0]-=1\n",
    "        elif small_cave_counter[0] == 1:\n",
    "            small_cave_counter[0]-=1\n"
   ]
  },
  {
   "cell_type": "code",
   "execution_count": 148,
   "id": "a9362172-839f-456c-a961-e21bbdad64aa",
   "metadata": {},
   "outputs": [
    {
     "data": {
      "text/plain": [
       "110328"
      ]
     },
     "execution_count": 148,
     "metadata": {},
     "output_type": "execute_result"
    }
   ],
   "source": [
    "cave_system = {}\n",
    "visited = [] # List to keep track of visited nodes.\n",
    "paths=[[line.split('-')[0], line.split('-')[1]] for line in lines]\n",
    "found_paths=[]\n",
    "path=[]\n",
    "#initialize cave system\n",
    "for cave in set([p[0] for p in paths]):\n",
    "    cave_system[cave] = []\n",
    "for cave in set([p[1] for p in paths]):\n",
    "    cave_system[cave] = []\n",
    "    \n",
    "for p in paths:\n",
    "    cave_system[p[0]].append(p[1])\n",
    "    if (p[0] != 'start' and p[1] != 'end'):\n",
    "        cave_system[p[1]].append(p[0])\n",
    "        \n",
    "for small_cave in [cave for cave in list(cave_system.keys()) if cave != 'start' and cave != 'end' and cave.islower()]:\n",
    "    small_cave_counter=[0]\n",
    "    find_paths2(cave_system, visited, path, 'start', 'end', small_cave)\n",
    "len(found_paths)"
   ]
  },
  {
   "cell_type": "code",
   "execution_count": null,
   "id": "06db7a7f-c619-4f2a-a7f2-ca31342d98d5",
   "metadata": {},
   "outputs": [],
   "source": [
    "res = []\n",
    "len([res.append(x) for x in found_paths if x not in res])"
   ]
  },
  {
   "cell_type": "markdown",
   "id": "95949fdb-b2c5-4d7d-bef8-b2175ed1e2df",
   "metadata": {},
   "source": [
    "# Day 13"
   ]
  },
  {
   "cell_type": "code",
   "execution_count": 250,
   "id": "67c83309-e424-4190-a68e-504443cc460a",
   "metadata": {},
   "outputs": [
    {
     "data": {
      "text/plain": [
       "675"
      ]
     },
     "execution_count": 250,
     "metadata": {},
     "output_type": "execute_result"
    }
   ],
   "source": [
    "lines = open('Data/day13.txt').read()\n",
    "dots = [list(map(int, line.split(','))) for line in lines.split('\\n\\n')[0].splitlines()]\n",
    "fold_instructions=[[line.replace('fold along ', '').split('=')[0], int(line.replace('fold along ', '').split('=')[1])] for line in lines.split('\\n\\n')[1].splitlines()]\n",
    "for instruction in fold_instructions[:1]:\n",
    "    if instruction[0] == 'x':\n",
    "        for i in range(len(dots)):\n",
    "            diff = dots[i][0]-instruction[1]\n",
    "            if diff > 0:\n",
    "                dots[i][0]-=2*diff\n",
    "    elif instruction[0] == 'y':\n",
    "        for i in range(len(dots)):\n",
    "            diff = dots[i][1]-instruction[1]\n",
    "            if diff > 0:\n",
    "                dots[i][1]-=2*diff\n",
    "    dots=[list(tupl) for tupl in {tuple(item) for item in dots}]\n",
    "len(dots)"
   ]
  },
  {
   "cell_type": "markdown",
   "id": "c865afa2-dd48-4bfd-aeca-6330c9a44d9c",
   "metadata": {},
   "source": [
    "### Part 2"
   ]
  },
  {
   "cell_type": "code",
   "execution_count": 283,
   "id": "51ac982e-49bf-41e7-94c4-4fe5bc58f473",
   "metadata": {},
   "outputs": [
    {
     "name": "stdout",
     "output_type": "stream",
     "text": [
      "  0  1  2  3  4  5  6  7  8  9  10 11 12 13 14 15 16 17 18 19 20 21 22 23 24  \\\n",
      "0  #  .  .  #  .  #  #  #  #  .  #  .  .  #  .  #  .  .  #  .  #  #  #  #  .   \n",
      "1  #  .  .  #  .  .  .  .  #  .  #  .  #  .  .  #  .  .  #  .  #  .  .  .  .   \n",
      "2  #  #  #  #  .  .  .  #  .  .  #  #  .  .  .  #  #  #  #  .  #  #  #  .  .   \n",
      "3  #  .  .  #  .  .  #  .  .  .  #  .  #  .  .  #  .  .  #  .  #  .  .  .  .   \n",
      "4  #  .  .  #  .  #  .  .  .  .  #  .  #  .  .  #  .  .  #  .  #  .  .  .  .   \n",
      "5  #  .  .  #  .  #  #  #  #  .  #  .  .  #  .  #  .  .  #  .  #  .  .  .  .   \n",
      "\n",
      "  25 26 27 28 29 30 31 32 33 34 35 36 37 38  \n",
      "0  #  #  #  #  .  .  .  #  #  .  #  #  #  #  \n",
      "1  #  .  .  .  .  .  .  .  #  .  .  .  .  #  \n",
      "2  #  #  #  .  .  .  .  .  #  .  .  .  #  .  \n",
      "3  #  .  .  .  .  .  .  .  #  .  .  #  .  .  \n",
      "4  #  .  .  .  .  #  .  .  #  .  #  .  .  .  \n",
      "5  #  #  #  #  .  .  #  #  .  .  #  #  #  #  \n"
     ]
    }
   ],
   "source": [
    "lines = open('Data/day13.txt').read()\n",
    "dots = [list(map(int, line.split(','))) for line in lines.split('\\n\\n')[0].splitlines()]\n",
    "fold_instructions=[[line.replace('fold along ', '').split('=')[0], int(line.replace('fold along ', '').split('=')[1])] for line in lines.split('\\n\\n')[1].splitlines()]\n",
    "for instruction in fold_instructions:\n",
    "    if instruction[0] == 'x':\n",
    "        for i in range(len(dots)):\n",
    "            diff = dots[i][0]-instruction[1]\n",
    "            if diff > 0:\n",
    "                dots[i][0]-=2*diff\n",
    "    elif instruction[0] == 'y':\n",
    "        for i in range(len(dots)):\n",
    "            diff = dots[i][1]-instruction[1]\n",
    "            if diff > 0:\n",
    "                dots[i][1]-=2*diff\n",
    "    dots=[list(tupl) for tupl in {tuple(item) for item in dots}]\n",
    "    \n",
    "x_max=int(np.max([dot[0] for dot in dots]))+1\n",
    "y_max=int(np.max([dot[1] for dot in dots]))+1\n",
    "paper=np.full((y_max, x_max), '.')\n",
    "for dot in dots:\n",
    "    paper[dot[1],dot[0]]='#'\n",
    "\n",
    "pd.set_option('display.max_columns', 500)\n",
    "print(pd.DataFrame(paper))"
   ]
  },
  {
   "cell_type": "markdown",
   "id": "7bf135ea-be6a-41c4-ae76-5fc6ddb8fc9b",
   "metadata": {},
   "source": [
    "# Day 14"
   ]
  },
  {
   "cell_type": "code",
   "execution_count": 31,
   "id": "bcd99512-08d2-4ec9-8ac6-5b672c4fd150",
   "metadata": {},
   "outputs": [],
   "source": [
    "def day_14(file, steps):\n",
    "    lines = open(file).read()\n",
    "    polymer = lines.split('\\n\\n')[0]\n",
    "    insertions = [line.split(' -> ' ) for line in lines.split('\\n\\n')[1].splitlines()]\n",
    "    chars=[]\n",
    "    pairs={}\n",
    "    # get all unique chars in input and insertions:\n",
    "    for insert in insertions:\n",
    "        chars.append(insert[0][0])\n",
    "        chars.append(insert[0][1])\n",
    "        chars.append(insert[1])\n",
    "    chars=list(set(chars))\n",
    "    # get unique pairs possible with chars\n",
    "    for i in range(len(chars)):\n",
    "        for j in range(len(chars)):\n",
    "            pairs[chars[i]+chars[j]]=0\n",
    "            pairs[chars[j]+chars[i]]=0\n",
    "            \n",
    "    # initialize dict for char_counts:\n",
    "    char_counts = {}\n",
    "    for char in chars+list(set(polymer)):\n",
    "        char_counts[char]=0\n",
    "    for char in polymer:\n",
    "        char_counts[char]+=1\n",
    "    #init list:\n",
    "    for i in range(len(polymer)-1):\n",
    "        pairs[polymer[i:i+2]]+=1\n",
    "\n",
    "    for step in range(steps):\n",
    "        duplicate_pairs=pairs.copy()\n",
    "        for insert in insertions:\n",
    "            if duplicate_pairs[insert[0]] > 0:\n",
    "                char_counts[insert[1]]+=duplicate_pairs[insert[0]]\n",
    "                pairs[insert[0][0]+insert[1]]+=duplicate_pairs[insert[0]]\n",
    "                pairs[insert[1]+insert[0][1]]+=duplicate_pairs[insert[0]]\n",
    "                pairs[insert[0]]-=duplicate_pairs[insert[0]]\n",
    "\n",
    "    return max(char_counts.values())-min(char_counts.values())\n"
   ]
  },
  {
   "cell_type": "code",
   "execution_count": 32,
   "id": "3de44896-a8e8-4fd6-8a88-1d7ddcb4c147",
   "metadata": {},
   "outputs": [
    {
     "data": {
      "text/plain": [
       "2947"
      ]
     },
     "execution_count": 32,
     "metadata": {},
     "output_type": "execute_result"
    }
   ],
   "source": [
    "day_14('Data/day14.txt', 10)"
   ]
  },
  {
   "cell_type": "code",
   "execution_count": 33,
   "id": "6608f5ba-1a8b-4948-b1eb-a1be71631908",
   "metadata": {},
   "outputs": [
    {
     "data": {
      "text/plain": [
       "3232426226464"
      ]
     },
     "execution_count": 33,
     "metadata": {},
     "output_type": "execute_result"
    }
   ],
   "source": [
    "day_14('Data/day14.txt', 40)"
   ]
  },
  {
   "cell_type": "markdown",
   "id": "66cb72be-6cad-4574-9974-7fb7032c50d0",
   "metadata": {},
   "source": [
    "# Day 15 "
   ]
  },
  {
   "cell_type": "code",
   "execution_count": 87,
   "id": "9a6f08a5-369e-42d3-9399-bb89d36e1725",
   "metadata": {},
   "outputs": [],
   "source": [
    "lines = open('Data/day15_test.txt').read().splitlines()\n",
    "cave=np.array([[int(char) for char in line] for line in lines])\n",
    "max_y,max_x=np.shape(cave)\n",
    "cave[0,0]=0"
   ]
  },
  {
   "cell_type": "code",
   "execution_count": 66,
   "id": "824b5853-aaef-4cae-ad9f-c5855a7969c0",
   "metadata": {},
   "outputs": [
    {
     "name": "stdout",
     "output_type": "stream",
     "text": [
      "494\n"
     ]
    }
   ],
   "source": [
    "def min_cost(cave, y, x):\n",
    "    tc = np.full((max_y, max_x), 0)\n",
    " \n",
    "    # Initialize first column of total cost(tc) array\n",
    "    for i in range(1, y+1):\n",
    "        tc[i,0] = tc[i-1,0] + cave[i,0]\n",
    " \n",
    "    # Initialize first row of tc array\n",
    "    for j in range(1, x+1):\n",
    "        tc[0,j] = tc[0,j-1] + cave[0,j]\n",
    " \n",
    "    for i in range(1, y+1):\n",
    "        for j in range(1, x+1):\n",
    "            tc[i,j] = min(tc[i-1,j], tc[i,j-1]) + cave[i,j]\n",
    "\n",
    "    return tc[y,x]\n",
    "\n",
    "# min(tc[i-1,j], tc[i,j-1]) + cave[i,j]\n",
    "# min((min(tc[i-1,j], tc[i,j-1]) + cave[i,j]), tc[i,j])\n",
    "# Driver program to test above functions\n",
    "print(min_cost(cave, max_y-1, max_x-1))"
   ]
  },
  {
   "cell_type": "markdown",
   "id": "62db454b-26a2-474c-9c07-38a666560703",
   "metadata": {},
   "source": [
    "### Part 2"
   ]
  },
  {
   "cell_type": "code",
   "execution_count": 88,
   "id": "e125ccb7-d482-411c-b54c-a4e866c145fa",
   "metadata": {},
   "outputs": [],
   "source": [
    "lines = open('Data/day15_test.txt').read().splitlines()\n",
    "cave=np.array([[int(char) for char in line] for line in lines])\n",
    "max_y,max_x=np.shape(cave)\n",
    "# cave[0,0]=0"
   ]
  },
  {
   "cell_type": "code",
   "execution_count": 72,
   "id": "5770a89f-7f5c-4459-9af8-b2b047292a68",
   "metadata": {},
   "outputs": [],
   "source": [
    "def generate_new_cave(cave):\n",
    "    new_cave=(cave+1)\n",
    "    new_cave[new_cave > 9] = 1\n",
    "    return new_cave\n",
    "\n",
    "def generate_entire_cave(cave, copies=5)\n",
    "    old_cave=cave.copy()\n",
    "    for i in range(copies):\n",
    "        for j in range(copies):\n",
    "            if \n",
    "            new_cave=generate_new_cave(old_cave)\n",
    "            np.concatenate((old_cave, new_cave), axis=1)"
   ]
  },
  {
   "cell_type": "code",
   "execution_count": 73,
   "id": "0d2a86af-d149-45b7-85cf-1236f0966d2c",
   "metadata": {},
   "outputs": [
    {
     "data": {
      "text/plain": [
       "array([[1, 6, 8, ..., 2, 3, 9],\n",
       "       [2, 8, 2, ..., 7, 9, 9],\n",
       "       [3, 2, 6, ..., 6, 3, 3],\n",
       "       ...,\n",
       "       [7, 6, 2, ..., 6, 4, 5],\n",
       "       [4, 1, 1, ..., 8, 3, 2],\n",
       "       [6, 1, 1, ..., 5, 7, 3]])"
      ]
     },
     "execution_count": 73,
     "metadata": {},
     "output_type": "execute_result"
    }
   ],
   "source": [
    "generate_new_cave(cave)"
   ]
  },
  {
   "cell_type": "code",
   "execution_count": 89,
   "id": "1a517cea-dac8-4b51-9f01-799699ad3dfd",
   "metadata": {},
   "outputs": [
    {
     "data": {
      "text/plain": [
       "array([[1, 1, 6, 3, 7, 5, 1, 7, 4, 2, 2, 2, 7, 4, 8, 6, 2, 8, 5, 3],\n",
       "       [1, 3, 8, 1, 3, 7, 3, 6, 7, 2, 2, 4, 9, 2, 4, 8, 4, 7, 8, 3],\n",
       "       [2, 1, 3, 6, 5, 1, 1, 3, 2, 8, 3, 2, 4, 7, 6, 2, 2, 4, 3, 9],\n",
       "       [3, 6, 9, 4, 9, 3, 1, 5, 6, 9, 4, 7, 1, 5, 1, 4, 2, 6, 7, 1],\n",
       "       [7, 4, 6, 3, 4, 1, 7, 1, 1, 1, 8, 5, 7, 4, 5, 2, 8, 2, 2, 2],\n",
       "       [1, 3, 1, 9, 1, 2, 8, 1, 3, 7, 2, 4, 2, 1, 2, 3, 9, 2, 4, 8],\n",
       "       [1, 3, 5, 9, 9, 1, 2, 4, 2, 1, 2, 4, 6, 1, 1, 2, 3, 5, 3, 2],\n",
       "       [3, 1, 2, 5, 4, 2, 1, 6, 3, 9, 4, 2, 3, 6, 5, 3, 2, 7, 4, 1],\n",
       "       [1, 2, 9, 3, 1, 3, 8, 5, 2, 1, 2, 3, 1, 4, 2, 4, 9, 6, 3, 2],\n",
       "       [2, 3, 1, 1, 9, 4, 4, 5, 8, 1, 3, 4, 2, 2, 1, 5, 5, 6, 9, 2]])"
      ]
     },
     "execution_count": 89,
     "metadata": {},
     "output_type": "execute_result"
    }
   ],
   "source": [
    "np.concatenate((cave, generate_new_cave(cave)), axis=1)"
   ]
  },
  {
   "cell_type": "code",
   "execution_count": null,
   "id": "07ce4ffb-92ea-4137-84d7-f3cddd1d26f6",
   "metadata": {},
   "outputs": [],
   "source": []
  },
  {
   "cell_type": "code",
   "execution_count": null,
   "id": "54f929b7-a6de-41dc-953c-a672046147f6",
   "metadata": {},
   "outputs": [],
   "source": []
  },
  {
   "cell_type": "code",
   "execution_count": null,
   "id": "57600c52-bbfb-4d16-8988-171309e53e77",
   "metadata": {},
   "outputs": [],
   "source": []
  },
  {
   "cell_type": "code",
   "execution_count": 35,
   "id": "03a04849-882d-4231-952e-d4478a8d2a96",
   "metadata": {
    "jupyter": {
     "source_hidden": true
    },
    "tags": []
   },
   "outputs": [
    {
     "name": "stdout",
     "output_type": "stream",
     "text": [
      "487\n",
      "2821\n"
     ]
    }
   ],
   "source": [
    "\n",
    "from queue import PriorityQueue\n",
    "\n",
    "\n",
    "SAMPLE_PATH = \"Data/day15_test.txt\" \n",
    "INPUT_PATH = \"Data/day15.txt\"\n",
    "\n",
    "\n",
    "def get_data(filename):\n",
    "    with open(filename) as file:\n",
    "        lines = file.read().splitlines()\n",
    "    return [[int(x) for x in line] for line in lines]\n",
    "\n",
    "\n",
    "def manhattan_distance(a, b):\n",
    "    return abs(a[0] - b[0]) + abs(a[1] - b[1])\n",
    "\n",
    "\n",
    "def find_lowest_risk(cave_map):\n",
    "    \"\"\"Pathfinding using A*\"\"\"\n",
    "    start = (0, 0)\n",
    "    destination = (len(cave_map[0]) - 1, len(cave_map) - 1)\n",
    "    frontier = PriorityQueue()\n",
    "    frontier.put((0, start))\n",
    "    came_from = {start: None}\n",
    "    risk_so_far = {start: 0}\n",
    "    offsets = ((1, 0), (0, 1), (-1, 0), (0, -1))\n",
    "    pos = None\n",
    "    while not frontier.empty():\n",
    "        pos = frontier.get()[1]\n",
    "        if pos == destination:\n",
    "            break\n",
    "        for offset in offsets:\n",
    "            new_pos = (pos[0] + offset[0], pos[1] + offset[1])\n",
    "            if 0 <= new_pos[0] < len(cave_map[0]) and 0 <= new_pos[1] < len(cave_map):\n",
    "                new_risk = risk_so_far[pos] + cave_map[new_pos[1]][new_pos[0]]\n",
    "                if new_pos not in came_from or new_risk < risk_so_far[new_pos]:\n",
    "                    risk_so_far[new_pos] = new_risk\n",
    "                    priority = new_risk + manhattan_distance(new_pos, destination)\n",
    "                    frontier.put((priority, new_pos))\n",
    "                    came_from[new_pos] = pos\n",
    "    return risk_so_far[pos]\n",
    "\n",
    "\n",
    "def part_1(cave_map):\n",
    "    return find_lowest_risk(cave_map)\n",
    "\n",
    "\n",
    "def part_2(cave_map):\n",
    "    original_width = len(cave_map[0])\n",
    "    original_hight = len(cave_map)\n",
    "    for i in range(4):\n",
    "        for line in cave_map:\n",
    "            right_part = [x % 9 + 1 for x in line[-original_width:]]\n",
    "            line.extend(right_part)\n",
    "        for line in cave_map[original_hight*i:original_hight*(i+1)]:\n",
    "            new_line = [x % 9 + 1 for x in line]\n",
    "            cave_map.append(new_line)\n",
    "\n",
    "    return find_lowest_risk(cave_map)\n",
    "\n",
    "\n",
    "if __name__ == \"__main__\":\n",
    "    sample_data = get_data(SAMPLE_PATH)\n",
    "    assert part_1(sample_data) == 40\n",
    "    assert part_2(sample_data) == 315\n",
    "\n",
    "    challenge_data = get_data(INPUT_PATH)\n",
    "    print(part_1(challenge_data))  # 717\n",
    "    print(part_2(challenge_data))  # 2993"
   ]
  }
 ],
 "metadata": {
  "kernelspec": {
   "display_name": "Python 3",
   "language": "python",
   "name": "python3"
  },
  "language_info": {
   "codemirror_mode": {
    "name": "ipython",
    "version": 3
   },
   "file_extension": ".py",
   "mimetype": "text/x-python",
   "name": "python",
   "nbconvert_exporter": "python",
   "pygments_lexer": "ipython3",
   "version": "3.8.8"
  }
 },
 "nbformat": 4,
 "nbformat_minor": 5
}
